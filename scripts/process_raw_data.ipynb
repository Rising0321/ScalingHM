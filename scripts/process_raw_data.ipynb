{
 "cells": [
  {
   "cell_type": "code",
   "execution_count": 1,
   "id": "af55766f-801f-4a3f-91a8-5ba50f1e5069",
   "metadata": {},
   "outputs": [
    {
     "name": "stderr",
     "output_type": "stream",
     "text": [
      "Setting default log level to \"WARN\".\n",
      "To adjust logging level use sc.setLogLevel(newLevel). For SparkR, use setLogLevel(newLevel).\n",
      "23/12/07 15:18:18 WARN NativeCodeLoader: Unable to load native-hadoop library for your platform... using builtin-java classes where applicable\n"
     ]
    }
   ],
   "source": [
    "from pyspark import SparkConf, SparkContext\n",
    "from pyspark.sql import functions as fn\n",
    "from pyspark.sql.window import Window\n",
    "from pyspark.sql import SparkSession\n",
    "from pyspark.sql.functions import col\n",
    "import pandas as pd\n",
    "import numpy as np\n",
    "import time\n",
    "import pyarrow.parquet as pq\n",
    "import os\n",
    "import math\n",
    "from pyspark.sql.window import Window\n",
    "import time\n",
    "import datetime\n",
    "\n",
    "os.environ[\"JAVA_HOME\"] = \"/workdir/data/JAVA8/jdk1.8.0_202\"\n",
    "\n",
    "# SparkContext.setSystemProperty(\"spark.driver.maxResultSize\",\"1g\")\n",
    "spark = SparkSession.builder \\\n",
    "    .config(\"spark.excutor.memory\", \"300g\") \\\n",
    "    .config(\"spark.driver.memory\", \"300g\") \\\n",
    "    .config(\"spark.excutor.cores\", 40) \\\n",
    "    .appName(\"Read Parquet\") \\\n",
    "    .getOrCreate()"
   ]
  },
  {
   "cell_type": "code",
   "execution_count": 2,
   "id": "b6c16cc0-b27c-4b78-a289-d94f42b1100c",
   "metadata": {},
   "outputs": [
    {
     "name": "stdout",
     "output_type": "stream",
     "text": [
      "1677600000000 1678464000000\n"
     ]
    }
   ],
   "source": [
    "year = 2023\n",
    "month = 3\n",
    "day = 1\n",
    "span = 14\n",
    "\n",
    "now_date = year * 10000 + month * 100 + day\n",
    "nex_date = year * 10000 + month * 100 + day + span\n",
    "\n",
    "date_time = datetime.datetime(year, month, day)\n",
    "now_unix = int(time.mktime(date_time.timetuple())) * 1000\n",
    "date_time = datetime.datetime(year, month, day + span)\n",
    "nex_unix = int(time.mktime(date_time.timetuple())) * 1000\n",
    "print(now_unix, nex_unix)\n",
    "\n",
    "time_delta = 15 * 60 * 1000\n",
    "now_dir = 0"
   ]
  },
  {
   "cell_type": "code",
   "execution_count": 3,
   "id": "12cc2238-371e-4682-b23d-632d087c6d2c",
   "metadata": {},
   "outputs": [],
   "source": [
    "def change_pemu(a, b):\n",
    "    result = np.empty_like(a)\n",
    "    result[b] = a\n",
    "    return result"
   ]
  },
  {
   "cell_type": "code",
   "execution_count": 4,
   "id": "13b3cf11-e711-49e5-a9e6-40191bfaa44d",
   "metadata": {},
   "outputs": [],
   "source": [
    "def calculate_static(iteratrors):\n",
    "    res = []\n",
    "    res_id = []\n",
    "\n",
    "    for now__ in iteratrors:\n",
    "        # print(now__)\n",
    "        now_ = [now__[0], change_pemu(list(now__[1]), list(now__[6])),\n",
    "                change_pemu(list(now__[2]), list(now__[6])),\n",
    "                change_pemu(list(now__[3]), list(now__[6])),\n",
    "                change_pemu(list(now__[4]), list(now__[6])),\n",
    "                change_pemu(list(now__[5]), list(now__[6]))]\n",
    "\n",
    "        cnt = 0\n",
    "        now = []\n",
    "        pre = []\n",
    "\n",
    "        max_len = len(now_[1])\n",
    "\n",
    "        for i in range(max_len):\n",
    "\n",
    "            x = [now_[0], now_[1][i], now_[2][i], now_[3][i], now_[4][i], now_[5][i]]\n",
    "\n",
    "            if x[2] < 1 or x[3] < 1:\n",
    "                continue\n",
    "\n",
    "            if len(pre) == 0:\n",
    "                lef = (now_unix - now_unix - 1) // time_delta\n",
    "                rig = (x[5] - 1 - now_unix) // time_delta\n",
    "                if rig - lef >= 1:\n",
    "                    pre = x\n",
    "                    cnt += int(rig - lef)\n",
    "                    now.extend([[x[2], x[3]]] * int(rig - lef))\n",
    "\n",
    "\n",
    "            else:\n",
    "                lef = (pre[5] - now_unix - 1) // time_delta\n",
    "                rig = (x[5] - 1 - now_unix) // time_delta\n",
    "                if rig - lef >= 1:\n",
    "                    pre = x\n",
    "                    cnt += int(rig - lef)\n",
    "                    now.extend([[x[2], x[3]]] * int(rig - lef))\n",
    "\n",
    "        if len(pre) != 0:\n",
    "            lef = (pre[5] - now_unix - 1) // time_delta\n",
    "            rig = (nex_unix - 1 - now_unix) // time_delta\n",
    "            if rig - lef >= 1:\n",
    "                cnt += int(rig - lef)\n",
    "                now.extend([[pre[2], pre[3]]] * int(rig - lef))\n",
    "            res.append(now)\n",
    "            res_id.append(now_[0])\n",
    "            assert len(now) == span * 96, \"error %d %d\" % (len(now), cnt)\n",
    "\n",
    "    try:\n",
    "        # print(os.getpid())\n",
    "        # print(len(res))\n",
    "        now_id = os.getpid()\n",
    "        while True:\n",
    "            path = (\"/workdir/all_data/%d/{}_data.npy\" % now_dir).format(now_id)\n",
    "            if os.path.exists(path):\n",
    "                now_id += 20\n",
    "            else:\n",
    "                break\n",
    "\n",
    "        np.save((\"/workdir/all_data/%d/{}_data.npy\" % now_dir).format(now_id), res)\n",
    "        np.save((\"/workdir/all_data/%d/{}_uid.npy\" % now_dir).format(now_id), res_id)\n",
    "    except Exception as e:\n",
    "        print(e)"
   ]
  },
  {
   "cell_type": "code",
   "execution_count": 5,
   "id": "f0e6b966-36ee-45dc-a619-10e61894c41e",
   "metadata": {},
   "outputs": [],
   "source": [
    "def output_data(full_data):\n",
    "    target_columns = full_data.columns\n",
    "    window_spec = Window.partitionBy(\"UID\").orderBy(\"procedureStartTime\")\n",
    "\n",
    "    full_data = full_data.withColumn(\n",
    "        \"rownum\",\n",
    "        fn.row_number().over(window_spec) - 1\n",
    "    )\n",
    "\n",
    "    full_data = full_data.groupby(\"UID\").agg(\n",
    "        fn.collect_list(\"CID\").alias(\"CID_list\"),\n",
    "        fn.collect_list(\"longitude\").alias(\"longitude_list\"),\n",
    "        fn.collect_list(\"latitude\").alias(\"latitude_list\"),\n",
    "        fn.collect_list(\"procedureStartTime\").alias(\"procedureStartTime_list\"),\n",
    "        fn.collect_list(\"procedureEndTime\").alias(\"procedureEndTime_list\"),\n",
    "        fn.collect_list(\"rownum\").alias(\"rownum_list\")\n",
    "    )\n",
    "    print(\"-----------------------------------------\")\n",
    "    full_data.foreachPartition(calculate_static)"
   ]
  },
  {
   "cell_type": "code",
   "execution_count": null,
   "id": "eb872a16-b5af-4d05-90bb-7f09deb87653",
   "metadata": {},
   "outputs": [
    {
     "name": "stderr",
     "output_type": "stream",
     "text": [
      "  0%|          | 0/15 [00:00<?, ?it/s]"
     ]
    },
    {
     "name": "stdout",
     "output_type": "stream",
     "text": [
      "0\n"
     ]
    },
    {
     "name": "stderr",
     "output_type": "stream",
     "text": [
      "                                                                                \r"
     ]
    },
    {
     "name": "stdout",
     "output_type": "stream",
     "text": [
      "-----------------------------------------\n"
     ]
    },
    {
     "name": "stderr",
     "output_type": "stream",
     "text": [
      "[Stage 12:==========>                                           (39 + 20) / 200]\r"
     ]
    }
   ],
   "source": [
    "from tqdm import tqdm\n",
    "\n",
    "now_st = 0\n",
    "now_len = 2000000\n",
    "for sub_data in tqdm(range(10)):\n",
    "    print(sub_data)\n",
    "    os.makedirs(\"/workdir/all_data/%d\" % sub_data, exist_ok=True)\n",
    "    now_dir = sub_data\n",
    "    sum_data = None\n",
    "    for i in range(1, span + 1):\n",
    "        data_dir = \"/202303%02d\" % i\n",
    "        full_data = spark.read.parquet(data_dir)\n",
    "        full_data = full_data.filter((full_data[\"UID\"] < now_st + now_len) & (now_st <= full_data[\"UID\"]))\n",
    "        if sum_data == None:\n",
    "            sum_data = full_data\n",
    "        else:\n",
    "            sum_data = sum_data.union(full_data)\n",
    "    output_data(sum_data)\n",
    "    now_st += now_len"
   ]
  }
 ],
 "metadata": {
  "kernelspec": {
   "display_name": "Python 3 (ipykernel)",
   "language": "python",
   "name": "python3"
  },
  "language_info": {
   "codemirror_mode": {
    "name": "ipython",
    "version": 3
   },
   "file_extension": ".py",
   "mimetype": "text/x-python",
   "name": "python",
   "nbconvert_exporter": "python",
   "pygments_lexer": "ipython3",
   "version": "3.10.11"
  }
 },
 "nbformat": 4,
 "nbformat_minor": 5
}
